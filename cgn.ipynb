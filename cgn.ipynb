{
  "nbformat": 4,
  "nbformat_minor": 0,
  "metadata": {
    "colab": {
      "provenance": []
    },
    "kernelspec": {
      "name": "python3",
      "display_name": "Python 3"
    },
    "language_info": {
      "name": "python"
    },
    "accelerator": "GPU",
    "gpuClass": "standard"
  },
  "cells": [
    {
      "cell_type": "code",
      "source": [
        "!unzip trainingSample.zip"
      ],
      "metadata": {
        "id": "DawVWrMBEbxw"
      },
      "execution_count": null,
      "outputs": []
    },
    {
      "cell_type": "code",
      "source": [
        "!unzip colorized-MNIST-Updated.zip"
      ],
      "metadata": {
        "id": "H5p0G8N2JgOu"
      },
      "execution_count": null,
      "outputs": []
    },
    {
      "cell_type": "code",
      "execution_count": null,
      "metadata": {
        "id": "jDB4WqOiDmH2"
      },
      "outputs": [],
      "source": [
        "import cv2\n",
        "#globbing utility.\n",
        "import glob\n",
        "import torchvision.transforms as transforms\n",
        "\n",
        "\n",
        "\n",
        "\n",
        "def dataProcess(filename,img_type):\n",
        "  mainList_train = []\n",
        "\n",
        "  for i in range(10):\n",
        "    path = filename+'/'+str(i)+\"/\"+'*.'+img_type\n",
        "    print(path)\n",
        "    path = glob.glob(path)\n",
        "\n",
        "    print(path)\n",
        "\n",
        "    for file in path:\n",
        "      \n",
        "    # Read the image\n",
        "        image = cv2.imread(file)\n",
        "      \n",
        "        # Convert BGR image to RGB image\n",
        "\n",
        "        \n",
        "        # Define a transform to convert\n",
        "        # the image to torch tensor\n",
        "        transform=transforms.Compose([\n",
        "                              transforms.ToTensor(),\n",
        "                              transforms.Normalize((0.1307,), (0.3081,))\n",
        "                          ])\n",
        "        \n",
        "        # Convert the image to Torch tensor\n",
        "        tensor = transform(image)\n",
        "\n",
        "        \n",
        "        \n",
        "\n",
        "        summ = tensor[0]+tensor[1]+tensor[2]\n",
        "\n",
        "        mainList_train.append((summ,i))\n",
        "\n",
        "        \n",
        "    \n",
        "\n",
        "  return mainList_train\n",
        "\n",
        "colored_train = dataProcess('/content/colorized-MNIST-Updated/training',\"png\")\n",
        "\n",
        "colored_test = dataProcess('/content/colorized-MNIST-Updated/testing',\"png\")\n",
        "\n",
        "normal_data = dataProcess('/content/trainingSample',\"jpg\")\n",
        "      \n",
        "    \n",
        " "
      ]
    },
    {
      "cell_type": "code",
      "source": [
        "import random\n",
        "\n",
        "random.shuffle(normal_data)\n",
        "\n",
        "random.shuffle(colored_train)\n",
        "\n",
        "random.shuffle(colored_test)\n",
        "\n",
        "\n",
        "total = colored_train+colored_test\n",
        "\n",
        "\n",
        "train_len = int(len(total)*0.7)\n",
        "\n",
        "color_train = total[0:train_len]\n",
        "color_test = total[train_len:]\n",
        "\n",
        "train_len = int(len(normal_data)*0.7)\n",
        "normal_train = normal_data[0:train_len]\n",
        "normal_test = normal_data[train_len:]\n"
      ],
      "metadata": {
        "id": "CKffholPGyeB"
      },
      "execution_count": null,
      "outputs": []
    },
    {
      "cell_type": "code",
      "source": [],
      "metadata": {
        "id": "t56DyKrzdj0n"
      },
      "execution_count": null,
      "outputs": []
    },
    {
      "cell_type": "code",
      "source": [
        "print(len(normal_train))\n",
        "print(len(normal_test))\n",
        "print(len(color_train))\n",
        "print(len(color_test))"
      ],
      "metadata": {
        "colab": {
          "base_uri": "https://localhost:8080/"
        },
        "id": "VtRnWin0NWII",
        "outputId": "a5f20f68-852c-439b-88d0-8c940a2ebc35"
      },
      "execution_count": null,
      "outputs": [
        {
          "output_type": "stream",
          "name": "stdout",
          "text": [
            "29399\n",
            "12601\n",
            "26369\n",
            "11301\n"
          ]
        }
      ]
    },
    {
      "cell_type": "code",
      "source": [
        "train_all = normal_train + color_train"
      ],
      "metadata": {
        "id": "OMc0_OgTNxPs"
      },
      "execution_count": null,
      "outputs": []
    },
    {
      "cell_type": "code",
      "source": [
        "test_all = normal_test + color_test"
      ],
      "metadata": {
        "id": "Y1y9tlsSO_0E"
      },
      "execution_count": null,
      "outputs": []
    },
    {
      "cell_type": "code",
      "source": [
        "from sklearn.metrics import precision_score, recall_score, f1_score, accuracy_score\n",
        "\n",
        "from __future__ import print_function\n",
        "import argparse\n",
        "import torch\n",
        "import torch.nn as nn\n",
        "import torch.nn.functional as F\n",
        "import torch.optim as optim\n",
        "from torchvision import datasets, transforms\n",
        "import numpy as np\n",
        "from scipy.spatial.distance import cdist\n",
        "\n",
        "\n",
        "class BorisNet(nn.Module):\n",
        "    def __init__(self):\n",
        "        super(BorisNet, self).__init__()\n",
        "        self.fc = nn.Linear(784, 10, bias=False)\n",
        "\n",
        "    def forward(self, x):\n",
        "        return self.fc(x.view(x.size(0), -1))\n",
        "\n",
        "\n",
        "class BorisConvNet(nn.Module):\n",
        "    def __init__(self):\n",
        "        super(BorisConvNet, self).__init__()\n",
        "        self.conv = nn.Conv2d(64, 10, 28, stride=1, padding=14)\n",
        "        self.fc = nn.Linear(4 * 4, 10, bias=False)\n",
        "    def forward(self, x):\n",
        "        x = F.relu(self.conv(x))\n",
        "        x = F.max_pool2d(x, 7)\n",
        "        return self.fc(x.view(x.size(0), -1))\n",
        "\n",
        "class BorisGraphNet(nn.Module):\n",
        "    def __init__(self, img_size=28, pred_edge=False):\n",
        "        super(BorisGraphNet, self).__init__()\n",
        "        self.pred_edge = pred_edge\n",
        "        N = img_size ** 2\n",
        "        self.fc = nn.Linear(N, 10, bias=False)\n",
        "        if pred_edge:\n",
        "            col, row = np.meshgrid(np.arange(img_size), np.arange(img_size))\n",
        "            coord = np.stack((col, row), axis=2).reshape(-1, 2)\n",
        "            coord = (coord - np.mean(coord, axis=0)) / (np.std(coord, axis=0) + 1e-5)\n",
        "            coord = torch.from_numpy(coord).float()  # 784,2\n",
        "            coord = torch.cat((coord.unsqueeze(0).repeat(N, 1,  1),\n",
        "                                    coord.unsqueeze(1).repeat(1, N, 1)), dim=2)\n",
        "            #coord = torch.abs(coord[:, :, [0, 1]] - coord[:, :, [2, 3]])\n",
        "            self.pred_edge_fc = nn.Sequential(nn.Linear(4, 64),\n",
        "                                              nn.ReLU(),\n",
        "                                              nn.Linear(64, 1),\n",
        "                                              nn.Tanh())\n",
        "            self.register_buffer('coord', coord)\n",
        "        else:\n",
        "            # precompute adjacency matrix before training\n",
        "            A = self.precompute_adjacency_images(img_size)\n",
        "            self.register_buffer('A', A)\n",
        "\n",
        "\n",
        "    @staticmethod\n",
        "    def precompute_adjacency_images(img_size):\n",
        "        col, row = np.meshgrid(np.arange(img_size), np.arange(img_size))\n",
        "        coord = np.stack((col, row), axis=2).reshape(-1, 2) / img_size\n",
        "        dist = cdist(coord, coord)  \n",
        "        sigma = 0.05 * np.pi\n",
        "        \n",
        "        # Below, I forgot to square dist to make it a Gaussian (not sure how important it can be for final results)\n",
        "        A = np.exp(- dist / sigma ** 2)\n",
        "        print('WARNING: try squaring the dist to make it a Gaussian')\n",
        "            \n",
        "        A[A < 0.01] = 0\n",
        "        A = torch.from_numpy(A).float()\n",
        "\n",
        "        # Normalization as per (Kipf & Welling, ICLR 2017)\n",
        "        D = A.sum(1)  # nodes degree (N,)\n",
        "        D_hat = (D + 1e-5) ** (-0.5)\n",
        "        A_hat = D_hat.view(-1, 1) * A * D_hat.view(1, -1)  # N,N\n",
        "\n",
        "        # Some additional trick I found to be useful\n",
        "        A_hat[A_hat > 0.0001] = A_hat[A_hat > 0.0001] - 0.2\n",
        "\n",
        "        print(A_hat[:10, :10])\n",
        "        return A_hat\n",
        "\n",
        "    def forward(self, x):\n",
        "        B = x.size(0)\n",
        "        if self.pred_edge:\n",
        "            self.A = self.pred_edge_fc(self.coord).squeeze()\n",
        "\n",
        "        avg_neighbor_features = (torch.bmm(self.A.unsqueeze(0).expand(B, -1, -1),\n",
        "                                 x.view(B, -1, 1)).view(B, -1))\n",
        "        return self.fc(avg_neighbor_features)\n",
        "\n",
        "\n",
        "def train(log_interval,model, device, train_loader, optimizer, epoch):\n",
        "    model.train()\n",
        "    for batch_idx, (data, target) in enumerate(train_loader):\n",
        "        data, target = data.to(device), target.to(device)\n",
        "        optimizer.zero_grad()\n",
        "        output = model(data)\n",
        "        loss = F.cross_entropy(output, target)\n",
        "        loss.backward()\n",
        "        optimizer.step()\n",
        "        if batch_idx % log_interval == 0:\n",
        "            print('Train Epoch: {} [{}/{} ({:.0f}%)]\\tLoss: {:.6f}'.format(\n",
        "                epoch, batch_idx * len(data), len(train_loader.dataset),\n",
        "                       100. * batch_idx / len(train_loader), loss.item()))\n",
        "\n",
        "\n",
        "def test(model, device, test_loader,epoch):\n",
        "    model.eval()\n",
        "    test_loss = 0\n",
        "    correct = 0\n",
        "\n",
        "    prediction = []\n",
        "    trueone= []\n",
        "    with torch.no_grad():\n",
        "        for data, target in test_loader:\n",
        "            data, target = data.to(device), target.to(device)\n",
        "            output = model(data)\n",
        "            test_loss += F.cross_entropy(output, target, reduction='sum').item()\n",
        "            pred = output.argmax(dim=1, keepdim=True)\n",
        "            correct += pred.eq(target.view_as(pred)).sum().item()\n",
        "            prediction+=output.argmax(dim=1).cpu()\n",
        "\n",
        "            #print(len(prediction))\n",
        "\n",
        "            \n",
        "            trueone+=target.cpu()\n",
        "            #print(len(trueone))\n",
        "\n",
        "    test_loss /= len(test_loader.dataset)\n",
        "\n",
        "\n",
        "    if(epoch <= 150 ):\n",
        "\n",
        "      print(\n",
        "          '\\nTest set: Average loss: {:.4f}, Accuracy: {}/{} ({:.0f}%)\\n'.format(\n",
        "              test_loss, correct, len(test_loader.dataset),\n",
        "              100. * correct / len(test_loader.dataset)))\n",
        "      \n",
        "      print('F1_score: %.3f' % f1_score(trueone, prediction,average='micro'))\n",
        "\n",
        "\n",
        "\n",
        "\n",
        "\n",
        "\n",
        "\n",
        "\n",
        "batch_size=64\n",
        "test_batch_size=1000\n",
        "epochs = 10\n",
        "lr = 0.001\n",
        "pred_edge = True\n",
        "seed=1\n",
        "log_interval=200\n",
        "\n",
        "use_cuda = True\n",
        "\n",
        "torch.manual_seed(seed)\n",
        "\n",
        "device = torch.device(\"cuda\" if use_cuda else \"cpu\")\n",
        "\n",
        "kwargs = {'num_workers': 1, 'pin_memory': True} if use_cuda else {}\n",
        "train_loader = torch.utils.data.DataLoader(normal_train,\n",
        "    batch_size=batch_size, shuffle=True)\n",
        "test_loader = torch.utils.data.DataLoader(normal_test,\n",
        "    batch_size=test_batch_size, shuffle=False)\n",
        "\n",
        "\n",
        "#model = BorisNet()\n",
        "\n",
        "model = BorisGraphNet(pred_edge=pred_edge)\n",
        "\n",
        "#model = BorisConvNet()\n",
        "\n",
        "model.to(device)\n",
        "print(model)\n",
        "optimizer = optim.SGD(model.parameters(), lr=lr, weight_decay=1e-1 if model == 'conv' else 1e-4)\n",
        "print('number of trainable parameters: %d' %\n",
        "      np.sum([np.prod(p.size()) if p.requires_grad else 0 for p in model.parameters()]))\n",
        "\n",
        "for epoch in range(1, epochs + 1):\n",
        "    print(\"normal data testing\")\n",
        "    train(log_interval,model, device, train_loader, optimizer, epoch)\n",
        "    test(model, device, test_loader,epoch)\n",
        "\n",
        "     \n"
      ],
      "metadata": {
        "id": "75JMqei6HBFg"
      },
      "execution_count": null,
      "outputs": []
    },
    {
      "cell_type": "code",
      "source": [
        "import matplotlib.pyplot as plt\n",
        "import numpy as np\n",
        "\n",
        "y = np.array([69.9, 10.9, 12.2])\n",
        "mylabels = [\"Training images=69.9%\",  \"Counterfactual images=10.9%\", \"Original images=12.2%\"]\n",
        "\n",
        "plt.pie(y, labels = mylabels)\n",
        "\n",
        "#plt.ylabel(fontsize = 30, fontweight = 'bold')\n",
        "plt.savefig(\"pi.PNG\",fontsize = 30,bbox_inches = \"tight\")"
      ],
      "metadata": {
        "id": "1WqMvDjhye5m",
        "colab": {
          "base_uri": "https://localhost:8080/",
          "height": 248
        },
        "outputId": "9013db2a-2eea-418c-9309-8d41b8f1b98b"
      },
      "execution_count": null,
      "outputs": [
        {
          "output_type": "display_data",
          "data": {
            "text/plain": [
              "<Figure size 432x288 with 1 Axes>"
            ],
            "image/png": "[encoded data removed]"
          },
          "metadata": {}
        }
      ]
    }
  ]
}